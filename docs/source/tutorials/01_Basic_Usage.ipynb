{
 "cells": [
  {
   "cell_type": "markdown",
   "id": "dental-magnitude",
   "metadata": {},
   "source": [
    "# Running a simulation in Symupy \n",
    "\n",
    "In order to run a simulation you need two main elements:\n",
    "\n",
    "- A symuvia library. Although it is already within the dependencies you may retrieve the simulator via the conda package `conda install -c licit-lab symuvia`. This will obtain the traffic simulator library. \n",
    "- An XML file with an scenario"
   ]
  },
  {
   "cell_type": "code",
   "execution_count": 2,
   "id": "infinite-convergence",
   "metadata": {},
   "outputs": [],
   "source": [
    "from symupy.runtime.api import Simulator, Simulation \n",
    "import os\n",
    "\n",
    "path_to_simulator = \"/opt/conda/envs/symupy/lib/libSymuVia.so\"\n",
    "path_to_library = \"bottleneck_001.xml\""
   ]
  },
  {
   "cell_type": "code",
   "execution_count": 4,
   "id": "mighty-corrections",
   "metadata": {},
   "outputs": [
    {
     "name": "stdout",
     "output_type": "stream",
     "text": [
      "Configurator: Initialization\n",
      "Runtime: Initialization\n"
     ]
    }
   ],
   "source": [
    "s = Simulator()"
   ]
  },
  {
   "cell_type": "code",
   "execution_count": 3,
   "id": "solar-rates",
   "metadata": {},
   "outputs": [
    {
     "data": {
      "text/plain": [
       "''"
      ]
     },
     "execution_count": 3,
     "metadata": {},
     "output_type": "execute_result"
    }
   ],
   "source": [
    "s.library_path"
   ]
  }
 ],
 "metadata": {
  "kernelspec": {
   "display_name": "Symupy",
   "language": "python",
   "name": "symupy"
  },
  "language_info": {
   "codemirror_mode": {
    "name": "ipython",
    "version": 3
   },
   "file_extension": ".py",
   "mimetype": "text/x-python",
   "name": "python",
   "nbconvert_exporter": "python",
   "pygments_lexer": "ipython3",
   "version": "3.9.2"
  }
 },
 "nbformat": 4,
 "nbformat_minor": 5
}
